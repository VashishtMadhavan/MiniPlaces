{
 "cells": [
  {
   "cell_type": "code",
   "execution_count": 1,
   "metadata": {
    "collapsed": false
   },
   "outputs": [],
   "source": [
    "import caffe\n",
    "from caffe.proto import caffe_pb2\n",
    "from caffe import layers as L, to_proto\n",
    "from caffe import params as P\n",
    "import numpy as np\n",
    "import random\n",
    "import os\n",
    "import sys\n",
    "import time\n",
    "import tempfile\n",
    "import matplotlib.pyplot as plt\n",
    "\n",
    "%matplotlib inline\n",
    "\n",
    "plt.rcParams['figure.figsize'] = (10, 10)        # large images\n",
    "plt.rcParams['image.interpolation'] = 'nearest'  # don't interpolate: show square pixels\n",
    "plt.rcParams['image.cmap'] = 'gray'  # use grayscale output rather than a (potentially misleading) "
   ]
  },
  {
   "cell_type": "code",
   "execution_count": 2,
   "metadata": {
    "collapsed": false
   },
   "outputs": [],
   "source": [
    "GPUId = 2 # can change this to 0,1,2\n",
    "caffe.set_mode_gpu()\n",
    "caffe.set_device(GPUId)"
   ]
  },
  {
   "cell_type": "code",
   "execution_count": 3,
   "metadata": {
    "collapsed": false
   },
   "outputs": [
    {
     "name": "stdout",
     "output_type": "stream",
     "text": [
      "Training File Contents...\n",
      "train/a/aquarium/00000177.jpg 4\n",
      "train/c/corn_field/00000145.jpg 40\n",
      "train/a/abbey/00000250.jpg 0\n",
      "train/b/boat_deck/00000159.jpg 19\n",
      "train/m/market/outdoor/00000325.jpg 65\n",
      "train/c/church/outdoor/00000677.jpg 32\n",
      "train/b/banquet_hall/00000929.jpg 13\n",
      "train/g/golf_course/00000724.jpg 51\n",
      "train/s/shower/00000310.jpg 83\n",
      "train/v/valley/00000550.jpg 97\n"
     ]
    }
   ],
   "source": [
    "train_file_path = \"data/development_kit/data/train.txt\"\n",
    "val_file_path = \"data/development_kit/data/val.txt\"\n",
    "test_file_path = \"data/development_kit/data/test.txt\" \n",
    "\n",
    "print \"Training File Contents...\"\n",
    "content = [line.rstrip() for line in open(train_file_path)]\n",
    "random.shuffle(content)\n",
    "for x in content[:10]:\n",
    "    print x"
   ]
  },
  {
   "cell_type": "code",
   "execution_count": 4,
   "metadata": {
    "collapsed": false
   },
   "outputs": [],
   "source": [
    "#Data Parameters....\n",
    "CROP_SIZE = 96\n",
    "BATCH_SIZE = 128\n",
    "TEST_BATCH_SIZE = 150\n",
    "IMAGE_ROOT = \"data/images/\" #dont change this\n",
    "BIAS_CONSTANT = 0\n",
    "NET_PATH = \"train-net.prototxt\"\n",
    "VAL_NET_PATH = \"val-net.prototxt\"\n",
    "TEST_NET_PATH = \"test-net.prototxt\"\n",
    "SOLVER_PATH = \"solver.prototxt\"\n",
    "\n",
    "#Learning Parameters\n",
    "weight_param = dict(lr_mult=1, decay_mult=1)\n",
    "bias_param   = dict(lr_mult=2, decay_mult=0)\n",
    "learned_param = [weight_param, bias_param]\n",
    "conv_filler = dict(type='xavier')\n",
    "const_filler = dict(type='constant', value=BIAS_CONSTANT)\n",
    "fc_filler = dict(type='xavier')"
   ]
  },
  {
   "cell_type": "code",
   "execution_count": 5,
   "metadata": {
    "collapsed": false
   },
   "outputs": [],
   "source": [
    "test_file_names = [x.rstrip() for x in open(test_file_path).readlines()]\n",
    "test_file_path = \"data/development_kit/data/temp_test.txt\"\n",
    "f = open(test_file_path,'wb')\n",
    "f.write(''.join('%s 0\\n' % name for name in test_file_names))\n",
    "f.close()"
   ]
  },
  {
   "cell_type": "code",
   "execution_count": 6,
   "metadata": {
    "collapsed": false
   },
   "outputs": [],
   "source": [
    "def get_data_layer(source,train=True,batch=BATCH_SIZE):\n",
    "    mean = [104, 117, 123]  # per-channel mean of the BGR image pixels\n",
    "    transform_param = dict(mirror=train, crop_size=CROP_SIZE, mean_value=mean)\n",
    "    places_data, places_labels = L.ImageData(transform_param=transform_param,\n",
    "                                             source=source,\n",
    "                                             root_folder=IMAGE_ROOT,\n",
    "                                             shuffle=train,\n",
    "                                             batch_size=batch,\n",
    "                                             ntop=2)\n",
    "    return places_data,places_labels\n",
    "\n",
    "train_data,train_labels = get_data_layer(train_file_path,True)\n",
    "val_data,val_labels = get_data_layer(val_file_path,False,batch=TEST_BATCH_SIZE)\n",
    "test_data,test_labels = get_data_layer(test_file_path,False,batch=TEST_BATCH_SIZE) # added this"
   ]
  },
  {
   "cell_type": "code",
   "execution_count": 7,
   "metadata": {
    "collapsed": false
   },
   "outputs": [],
   "source": [
    "def conv_relu(bottom, ks, nout, stride=1, pad=1, group=1,weight_filler=conv_filler, bias_filler=const_filler):\n",
    "    conv = L.Convolution(bottom,\n",
    "                         kernel_size=ks,\n",
    "                         num_output=nout,\n",
    "                         stride=stride,\n",
    "                         pad=pad,\n",
    "                         group=group,\n",
    "                         param=learned_param,\n",
    "                         weight_filler=weight_filler,\n",
    "                         bias_filler=bias_filler)\n",
    "    bn = L.BatchNorm(conv,param=[dict(lr_mult=0)] * 3)\n",
    "    relu = L.ReLU(bn, in_place=True)\n",
    "    return conv, relu"
   ]
  },
  {
   "cell_type": "code",
   "execution_count": 8,
   "metadata": {
    "collapsed": false
   },
   "outputs": [],
   "source": [
    "def fc_relu(bottom, nout,weight_filler=fc_filler, bias_filler=const_filler):\n",
    "    fc = L.InnerProduct(bottom,\n",
    "                        num_output=nout,\n",
    "                        param=learned_param,\n",
    "                        weight_filler=weight_filler,\n",
    "                        bias_filler=bias_filler)\n",
    "    bn = L.BatchNorm(fc,param=[dict(lr_mult=0)] * 3)\n",
    "    relu = L.ReLU(bn, in_place=True)\n",
    "    return fc, relu"
   ]
  },
  {
   "cell_type": "code",
   "execution_count": 9,
   "metadata": {
    "collapsed": true
   },
   "outputs": [],
   "source": [
    "def max_pool(bottom, ks, stride=1, train=False):\n",
    "    return L.Pooling(bottom, pool=P.Pooling.MAX, kernel_size=ks, stride=stride)"
   ]
  },
  {
   "cell_type": "code",
   "execution_count": 10,
   "metadata": {
    "collapsed": false
   },
   "outputs": [],
   "source": [
    "def places_net(source, net_path, has_labels=True, train=False,num_classes=100): # changed to add has_labels\n",
    "    data = source['data']\n",
    "    if has_labels:\n",
    "        labels = source['labels']\n",
    "    n = caffe.NetSpec()\n",
    "    n.data = data\n",
    "    \n",
    "    n.conv1_1, n.relu1_1 = conv_relu(n.data, 3, 32, stride=1)\n",
    "    n.conv1_2, n.relu1_2 = conv_relu(n.relu1_1, 3, 32, stride=1)\n",
    "    n.pool1 = max_pool(n.relu1_2, 2, stride=2)\n",
    "    \n",
    "    n.conv2_1, n.relu2_1 = conv_relu(n.pool1, 3, 64, stride=1)\n",
    "    n.conv2_2, n.relu2_2 = conv_relu(n.relu2_1, 3, 64, stride=1)\n",
    "    n.pool2 = max_pool(n.relu2_2, 2, stride=2)\n",
    "    \n",
    "    n.conv3_1, n.relu3_1 = conv_relu(n.pool2, 3, 128, stride=1)\n",
    "    n.conv3_2, n.relu3_2 = conv_relu(n.relu3_1, 3, 128, stride=1)\n",
    "    n.conv3_3, n.relu3_3 = conv_relu(n.relu3_2, 3, 128, stride=1)\n",
    "    n.pool3 = max_pool(n.relu3_3, 2, stride=2)\n",
    "    \n",
    "    n.conv4_1, n.relu4_1 = conv_relu(n.pool3, 3, 256, stride=1)\n",
    "    n.conv4_2, n.relu4_2 = conv_relu(n.relu4_1, 3, 256, stride=1)\n",
    "    n.conv4_3, n.relu4_3 = conv_relu(n.relu4_2, 3, 256, stride=1)\n",
    "    n.pool4 = max_pool(n.relu4_3, 2, stride=2)\n",
    "\n",
    "    n.fc5, n.relu5 = fc_relu(n.pool4, 4096)\n",
    "    n.drop5 = L.Dropout(n.relu5, in_place=True)\n",
    "    \n",
    "    n.fc6, n.relu6 = fc_relu(n.drop5, 1024)\n",
    "    n.drop6 = L.Dropout(n.relu6, in_place=True)\n",
    "    \n",
    "    layer_param = [dict(lr_mult=5, decay_mult=1), dict(lr_mult=10, decay_mult=0)]\n",
    "    preds = n.fc7 = L.InnerProduct(n.drop6, num_output=num_classes,param=learned_param)\n",
    "    \n",
    "    if not train:\n",
    "        # Compute the per-label probabilities at test/inference time.\n",
    "        preds = n.probs = L.Softmax(n.fc7)\n",
    "    if has_labels:   \n",
    "        n.label = labels\n",
    "        n.loss = L.SoftmaxWithLoss(n.fc7, n.label)\n",
    "        n.accuracy_at_1 = L.Accuracy(preds, n.label)\n",
    "        n.accuracy_at_5 = L.Accuracy(preds, n.label,accuracy_param=dict(top_k=5))\n",
    "    with open(net_path,'w') as f:\n",
    "        f.write(str(n.to_proto()))\n",
    "    return net_path"
   ]
  },
  {
   "cell_type": "code",
   "execution_count": 12,
   "metadata": {
    "collapsed": false
   },
   "outputs": [],
   "source": [
    "train_net_file = places_net({'data': train_data, 'labels': train_labels}, NET_PATH, train=True)\n",
    "val_net_file = places_net({'data': val_data, 'labels': val_labels}, VAL_NET_PATH, train=False)\n",
    "test_net_file = places_net({'data': test_data, 'labels': test_labels},TEST_NET_PATH,has_labels=False,train=False)"
   ]
  },
  {
   "cell_type": "code",
   "execution_count": 11,
   "metadata": {
    "collapsed": false
   },
   "outputs": [],
   "source": [
    "def places_solver(snap_prefix):\n",
    "    s = caffe_pb2.SolverParameter()\n",
    "    s.train_net = train_net_file\n",
    "    s.test_net.append(val_net_file)\n",
    "    \n",
    "    s.test_interval = 1000\n",
    "    s.test_iter.append(67)\n",
    "    s.iter_size = 2\n",
    "\n",
    "    # Solve using the stochastic gradient descent (SGD) algorithm.\n",
    "    # Other choices include 'Adam' and 'RMSProp'.\n",
    "    s.type = 'SGD'\n",
    "\n",
    "    # The following settings (base_lr, lr_policy, gamma, stepsize, and max_iter),\n",
    "    # define the following learning rate schedule:\n",
    "    #   Iterations [  0, 20K) -> learning rate 0.01   = base_lr\n",
    "    #   Iterations [20K, 40K) -> learning rate 0.001  = base_lr * gamma\n",
    "    #   Iterations [40K, 50K) -> learning rate 0.0001 = base_lr * gamma^2\n",
    "    s.base_lr = 0.01\n",
    "    s.lr_policy = 'step'\n",
    "    s.gamma =  0.1\n",
    "    s.stepsize = 15000\n",
    "    s.max_iter = 150000\n",
    "\n",
    "    # Set other SGD hyperparameters. \n",
    "    #`momentum` = takes a weighted average of the current gradient and previous gradients -> more stable learning\n",
    "    # weight decay = regularizes learning; prevents overfitting\n",
    "    s.momentum = 0.9\n",
    "    s.weight_decay = 0.0005\n",
    "\n",
    "    # Display the current training loss and accuracy every `display` iterations.\n",
    "    s.display = 100\n",
    "    s.average_loss = 10\n",
    "    # Seed the RNG for deterministic results.\n",
    "    s.random_seed = 1\n",
    "\n",
    "    # Snapshots are files used to store networks we've trained\n",
    "    s.snapshot = 5000\n",
    "    s.snapshot_prefix = snap_prefix\n",
    "    if not os.path.exists(s.snapshot_prefix):\n",
    "        os.makedirs(s.snapshot_prefix)\n",
    "    with open(SOLVER_PATH,'w') as f:\n",
    "        f.write(str(s))\n",
    "    return SOLVER_PATH  "
   ]
  },
  {
   "cell_type": "code",
   "execution_count": 13,
   "metadata": {
    "collapsed": false
   },
   "outputs": [],
   "source": [
    "solver_file = places_solver(\"snapshot/\")\n",
    "solver = caffe.get_solver(solver_file) \n",
    "#solver.restore(\"snapshot/_iter_49500.solverstate\")"
   ]
  },
  {
   "cell_type": "code",
   "execution_count": 14,
   "metadata": {
    "collapsed": false
   },
   "outputs": [],
   "source": [
    "def eval_net(split_file_path,split_net,weight_file,split):\n",
    "    K=5\n",
    "    print 'Running evaluation for split:', split\n",
    "    filenames = []\n",
    "    labels = []\n",
    "    split_file = split_file_path\n",
    "    with open(split_file, 'r') as f:\n",
    "        for line in f.readlines():\n",
    "            parts = line.split()\n",
    "            assert 1 <= len(parts) <= 2, 'malformed line'\n",
    "            filenames.append(parts[0])\n",
    "            if len(parts) > 1:\n",
    "                labels.append(int(parts[1]))\n",
    "    if split == \"test\":\n",
    "        known_labels = False\n",
    "    else:\n",
    "        known_labels = (len(labels) > 0)\n",
    "    if known_labels:\n",
    "        assert len(labels) == len(filenames)\n",
    "    test_net_file = split_net\n",
    "    weights_file = weight_file\n",
    "    net = caffe.Net(test_net_file, weights_file, caffe.TEST)\n",
    "    top_k_predictions = np.zeros((len(filenames), K), dtype=np.int32)\n",
    "    if known_labels:\n",
    "        correct_label_probs = np.zeros(len(filenames))\n",
    "    offset = 0\n",
    "    while offset < len(filenames):\n",
    "        net.forward()\n",
    "        probs = net.blobs['probs'].data\n",
    "        #probs = net.forward()['probs']\n",
    "        for prob in probs:\n",
    "            top_k_predictions[offset] = (-prob).argsort()[:K]\n",
    "            if known_labels:\n",
    "                correct_label_probs[offset] = prob[labels[offset]]\n",
    "            offset += 1\n",
    "            if offset >= len(filenames):\n",
    "                break\n",
    "    if known_labels:\n",
    "        def accuracy_at_k(preds, labels, k):\n",
    "            assert len(preds) == len(labels)\n",
    "            num_correct = sum(l in p[:k] for p, l in zip(preds, labels))\n",
    "            return num_correct*1.0 / len(preds)\n",
    "        for k in [1, K]:\n",
    "            accuracy = 100 * accuracy_at_k(top_k_predictions, labels, k)\n",
    "            print '\\tAccuracy at %d = %4.2f%%' % (k, accuracy)\n",
    "        cross_ent_error = -np.log(correct_label_probs).mean()\n",
    "        print '\\tSoftmax cross-entropy error = %.4f' % (cross_ent_error, )\n",
    "    else:\n",
    "        print 'Not computing accuracy; ground truth unknown for split:', split\n",
    "    filename = 'top_%d_predictions.%s.csv' % (K, split)\n",
    "    with open(filename, 'w') as f:\n",
    "        f.write(','.join(['image'] + ['label%d' % i for i in range(1, K+1)]))\n",
    "        f.write('\\n')\n",
    "        f.write(''.join('%s,%s\\n' % (image, ','.join(str(p) for p in preds))\n",
    "                        for image, preds in zip(filenames, top_k_predictions)))\n",
    "    print 'Predictions for split %s dumped to: %s' % (split, filename)"
   ]
  },
  {
   "cell_type": "code",
   "execution_count": 15,
   "metadata": {
    "collapsed": true
   },
   "outputs": [],
   "source": [
    "def train_net(iters,disp):\n",
    "    outputs = sorted(solver.net.outputs)\n",
    "    def str_output(output):\n",
    "        value = solver.net.blobs[output].data\n",
    "        if output.startswith('accuracy'):\n",
    "            valstr = '%5.2f%%' % (100 * value, )\n",
    "        else:\n",
    "            valstr = '%6f' % value\n",
    "        return '%s = %s' % (output, valstr)\n",
    "    def disp_outputs(iteration, iter_pad_len=len(str(iters))):\n",
    "        metrics = '; '.join(str_output(o) for o in outputs)\n",
    "        return 'Iteration %*d: %s' % (iter_pad_len, iteration, metrics)\n",
    "    # We could just call `solver.solve()` rather than `step()`ing in a loop.\n",
    "    # (If we hadn't set GLOG_minloglevel = 3 at the top of this file, Caffe\n",
    "    # would display loss/accuracy information during training.)\n",
    "    previous_time = None\n",
    "    for iteration in xrange(iters):\n",
    "        solver.step(1)\n",
    "        if (disp > 0) and (iteration % disp == 0):\n",
    "            current_time = time.clock()\n",
    "            if previous_time is None:\n",
    "                benchmark = ''\n",
    "            else:\n",
    "                time_per_iter = (current_time - previous_time) / disp\n",
    "                benchmark = ' (%5f s/it)' % time_per_iter\n",
    "            previous_time = current_time\n",
    "            print disp_outputs(iteration), benchmark\n",
    "    # Print accuracy for last iteration.\n",
    "    solver.net.forward()\n",
    "    disp_outputs(iters)\n",
    "    #solver.net.save(snapshot_at_iteration(args.iters))"
   ]
  },
  {
   "cell_type": "code",
   "execution_count": null,
   "metadata": {
    "collapsed": false
   },
   "outputs": [],
   "source": [
    "eval_net(val_file_path,val_net_file,\"snapshot/_iter_49500.caffemodel\",'validation')"
   ]
  },
  {
   "cell_type": "code",
   "execution_count": null,
   "metadata": {
    "collapsed": true
   },
   "outputs": [],
   "source": [
    "def extract_highlevel_rep(split_file_path,split_net,weight_file):\n",
    "    FC6_DIM=1024\n",
    "    print 'Extracting High Level Representations'\n",
    "    filenames = []\n",
    "    labels = []\n",
    "    split_file = split_file_path\n",
    "    with open(split_file, 'r') as f:\n",
    "        for line in f.readlines():\n",
    "            parts = line.split()\n",
    "            assert 1 <= len(parts) <= 2, 'malformed line'\n",
    "            filenames.append(parts[0])\n",
    "            if len(parts) > 1:\n",
    "                labels.append(int(parts[1]))\n",
    "    known_labels = (len(labels) > 0)\n",
    "    if known_labels:\n",
    "        assert len(labels) == len(filenames)\n",
    "    else:\n",
    "        # create file with 'dummy' labels (all 0s)\n",
    "        split_file = to_tempfile(''.join('%s 0\\n' % name for name in filenames))\n",
    "    test_net_file = split_net\n",
    "    weights_file = weight_file\n",
    "    net = caffe.Net(test_net_file, weights_file, caffe.TEST)\n",
    "    high_level_reps = np.zeros((len(filenames), FC6_DIM), dtype=np.int32)\n",
    "\n",
    "    offset = 0\n",
    "    while offset < len(filenames):\n",
    "        net.forward()\n",
    "        dim_rep = net.blobs['fc6'].data\n",
    "        high_level_reps[offset] = dim_rep\n",
    "    with open(filename, 'w') as f:\n",
    "        f.write(','.join(['dim'] + ['%d' % i for i in range(1, K+1)]))\n",
    "        f.write('\\n')\n",
    "        f.write(''.join('%s\\n' % (','.join(str(p) for p in preds))\n",
    "                        for preds in high_level_reps))\n",
    "    print 'High-level rep for %s dumped to: %s' % (split, filename)"
   ]
  },
  {
   "cell_type": "code",
   "execution_count": null,
   "metadata": {
    "collapsed": true
   },
   "outputs": [],
   "source": [
    "def eval_net_ensemble(split_file_path,nets, weights, split):\n",
    "    K=5\n",
    "    print 'Running evaluation for split:', split\n",
    "    filenames = []\n",
    "    labels = []\n",
    "    split_file = split_file_path\n",
    "    with open(split_file, 'r') as f:\n",
    "        for line in f.readlines():\n",
    "            parts = line.split()\n",
    "            assert 1 <= len(parts) <= 2, 'malformed line'\n",
    "            filenames.append(parts[0])\n",
    "            if len(parts) > 1:\n",
    "                labels.append(int(parts[1]))\n",
    "    if split == \"test\":\n",
    "        known_labels = False\n",
    "    else:\n",
    "        known_labels = (len(labels) > 0)\n",
    "    if known_labels:\n",
    "        assert len(labels) == len(filenames)\n",
    "        \n",
    "    net1 = caffe.Net(net1, weight1, caffe.TEST)\n",
    "    net2 = caffe.Net(net2, weight2, caffe.TEST)\n",
    "    \n",
    "    top_k_predictions = np.zeros((len(filenames), K), dtype=np.int32)\n",
    "    if known_labels:\n",
    "        correct_label_probs = np.zeros(len(filenames))\n",
    "    offset = 0\n",
    "\n",
    "    while offset < len(filenames):\n",
    "        for net in nets:\n",
    "            net.foward()\n",
    "        \n",
    "        probs = np.zeros(1, len(labels))\n",
    "        for net in nets:\n",
    "            prob1 = net.blobs['probs'].data\n",
    "            probs = np.maximum(prob1, probs)\n",
    "\n",
    "        for prob in probs:\n",
    "            top_k_predictions[offset] = (-prob).argsort()[:K]\n",
    "            if known_labels:\n",
    "                correct_label_probs[offset] = prob[labels[offset]]\n",
    "            offset += 1\n",
    "            if offset >= len(filenames):\n",
    "                break\n",
    "    if known_labels:\n",
    "        def accuracy_at_k(preds, labels, k):\n",
    "            assert len(preds) == len(labels)\n",
    "            num_correct = sum(l in p[:k] for p, l in zip(preds, labels))\n",
    "            return num_correct*1.0 / len(preds)\n",
    "        for k in [1, K]:\n",
    "            accuracy = 100 * accuracy_at_k(top_k_predictions, labels, k)\n",
    "            print '\\tAccuracy at %d = %4.2f%%' % (k, accuracy)\n",
    "        cross_ent_error = -np.log(correct_label_probs).mean()\n",
    "        print '\\tSoftmax cross-entropy error = %.4f' % (cross_ent_error, )\n",
    "    else:\n",
    "        print 'Not computing accuracy; ground truth unknown for split:', split\n",
    "    filename = 'top_%d_predictions.%s.csv' % (K, split)\n",
    "    with open(filename, 'w') as f:\n",
    "        f.write(','.join(['image'] + ['label%d' % i for i in range(1, K+1)]))\n",
    "        f.write('\\n')\n",
    "        f.write(''.join('%s,%s\\n' % (image, ','.join(str(p) for p in preds))\n",
    "                        for image, preds in zip(filenames, top_k_predictions)))\n",
    "    print 'Predictions for split %s dumped to: %s' % (split, filename)"
   ]
  },
  {
   "cell_type": "code",
   "execution_count": null,
   "metadata": {
    "collapsed": false
   },
   "outputs": [],
   "source": [
    "nets = [\"test-net.prototxt\", \"val-net-vash.prototxt\", \"val-net-small.prototxt\"]\n",
    "weights = [\"snapshot/_iter_49500.caffemodel\", \"snapshot_vash/_iter_25000.caffemodel\", \"snapshot_small/_iter_20000.caffemodel\"]\n",
    "eval_net_ensemble(val_file_path, nets, weights, \"validation\")"
   ]
  },
  {
   "cell_type": "code",
   "execution_count": 15,
   "metadata": {
    "collapsed": true
   },
   "outputs": [],
   "source": [
    "def vis_square(data):\n",
    "    \"\"\"Take an array of shape (n, height, width) or (n, height, width, 3)\n",
    "       and visualize each (height, width) thing in a grid of size approx. sqrt(n) by sqrt(n)\"\"\"\n",
    "    \n",
    "    # normalize data for display\n",
    "    data = (data - data.min()) / (data.max() - data.min())\n",
    "    \n",
    "    # force the number of filters to be square\n",
    "    n = int(np.ceil(np.sqrt(data.shape[0])))\n",
    "    padding = (((0, n ** 2 - data.shape[0]),\n",
    "               (0, 1), (0, 1))                 # add some space between filters\n",
    "               + ((0, 0),) * (data.ndim - 3))  # don't pad the last dimension (if there is one)\n",
    "    data = np.pad(data, padding, mode='constant', constant_values=1)  # pad with ones (white)\n",
    "    \n",
    "    # tile the filters into an image\n",
    "    data = data.reshape((n, n) + data.shape[1:]).transpose((0, 2, 1, 3) + tuple(range(4, data.ndim + 1)))\n",
    "    data = data.reshape((n * data.shape[1], n * data.shape[3]) + data.shape[4:])\n",
    "    \n",
    "    plt.imshow(data); plt.axis('off')\n",
    "    \n",
    "\n",
    "# the parameters are a list of [weights, biases]"
   ]
  },
  {
   "cell_type": "code",
   "execution_count": 141,
   "metadata": {
    "collapsed": false
   },
   "outputs": [],
   "source": [
    "net = caffe.Net(\"val-net-vash.prototxt\", \"snapshot_vash/_iter_25000.caffemodel\", caffe.TEST)\n",
    "net.forward();"
   ]
  },
  {
   "cell_type": "code",
   "execution_count": 142,
   "metadata": {
    "collapsed": false
   },
   "outputs": [
    {
     "data": {
      "image/png": "[encoded data removed]",
      "text/plain": [
       "<matplotlib.figure.Figure at 0xe9d8fd0>"
      ]
     },
     "metadata": {},
     "output_type": "display_data"
    }
   ],
   "source": [
    "filters = net.params['conv1_1'][0].data\n",
    "vis_square(filters.transpose(0, 2, 3, 1))"
   ]
  },
  {
   "cell_type": "code",
   "execution_count": 143,
   "metadata": {
    "collapsed": false
   },
   "outputs": [
    {
     "ename": "KeyError",
     "evalue": "'[conv3_1]'",
     "output_type": "error",
     "traceback": [
      "\u001b[1;31m---------------------------------------------------------------------------\u001b[0m",
      "\u001b[1;31mKeyError\u001b[0m                                  Traceback (most recent call last)",
      "\u001b[1;32m<ipython-input-143-ff23655d7204>\u001b[0m in \u001b[0;36m<module>\u001b[1;34m()\u001b[0m\n\u001b[1;32m----> 1\u001b[1;33m \u001b[0mfilters\u001b[0m \u001b[1;33m=\u001b[0m \u001b[0mnet\u001b[0m\u001b[1;33m.\u001b[0m\u001b[0mparams\u001b[0m\u001b[1;33m[\u001b[0m\u001b[1;34m'[conv3_1]'\u001b[0m\u001b[1;33m]\u001b[0m\u001b[1;33m[\u001b[0m\u001b[1;36m0\u001b[0m\u001b[1;33m]\u001b[0m\u001b[1;33m.\u001b[0m\u001b[0mdata\u001b[0m\u001b[1;33m\u001b[0m\u001b[0m\n\u001b[0m\u001b[0;32m      2\u001b[0m \u001b[0mvis_square\u001b[0m\u001b[1;33m(\u001b[0m\u001b[0mfilters\u001b[0m\u001b[1;33m)\u001b[0m\u001b[1;33m\u001b[0m\u001b[0m\n",
      "\u001b[1;31mKeyError\u001b[0m: '[conv3_1]'"
     ]
    }
   ],
   "source": [
    "filters = net.params['[conv3_1]'][0].data\n",
    "vis_square(filters)"
   ]
  },
  {
   "cell_type": "code",
   "execution_count": 144,
   "metadata": {
    "collapsed": false
   },
   "outputs": [
    {
     "data": {
      "image/png": "[encoded data removed]",
      "text/plain": [
       "<matplotlib.figure.Figure at 0xf17da50>"
      ]
     },
     "metadata": {},
     "output_type": "display_data"
    }
   ],
   "source": [
    "feat = net.blobs['data'].data[0]\n",
    "vis_square(feat)"
   ]
  },
  {
   "cell_type": "code",
   "execution_count": 145,
   "metadata": {
    "collapsed": false
   },
   "outputs": [
    {
     "data": {
      "image/png": "[encoded data removed]",
      "text/plain": [
       "<matplotlib.figure.Figure at 0xfb942d0>"
      ]
     },
     "metadata": {},
     "output_type": "display_data"
    }
   ],
   "source": [
    "feat = net.blobs['fc6'].data[0]\n",
    "plt.subplot(2, 1, 1)\n",
    "plt.plot(feat.flat)\n",
    "plt.subplot(2, 1, 2)\n",
    "_ = plt.hist(feat.flat[feat.flat > 0], bins=100)"
   ]
  },
  {
   "cell_type": "code",
   "execution_count": 147,
   "metadata": {
    "collapsed": false
   },
   "outputs": [
    {
     "ename": "KeyError",
     "evalue": "'prob'",
     "output_type": "error",
     "traceback": [
      "\u001b[1;31m---------------------------------------------------------------------------\u001b[0m",
      "\u001b[1;31mKeyError\u001b[0m                                  Traceback (most recent call last)",
      "\u001b[1;32m<ipython-input-147-3b395e6df853>\u001b[0m in \u001b[0;36m<module>\u001b[1;34m()\u001b[0m\n\u001b[1;32m----> 1\u001b[1;33m \u001b[0mfeat\u001b[0m \u001b[1;33m=\u001b[0m \u001b[0mnet\u001b[0m\u001b[1;33m.\u001b[0m\u001b[0mblobs\u001b[0m\u001b[1;33m[\u001b[0m\u001b[1;34m'prob'\u001b[0m\u001b[1;33m]\u001b[0m\u001b[1;33m.\u001b[0m\u001b[0mdata\u001b[0m\u001b[1;33m[\u001b[0m\u001b[1;36m0\u001b[0m\u001b[1;33m]\u001b[0m\u001b[1;33m\u001b[0m\u001b[0m\n\u001b[0m\u001b[0;32m      2\u001b[0m \u001b[0mplt\u001b[0m\u001b[1;33m.\u001b[0m\u001b[0mfigure\u001b[0m\u001b[1;33m(\u001b[0m\u001b[0mfigsize\u001b[0m\u001b[1;33m=\u001b[0m\u001b[1;33m(\u001b[0m\u001b[1;36m15\u001b[0m\u001b[1;33m,\u001b[0m \u001b[1;36m3\u001b[0m\u001b[1;33m)\u001b[0m\u001b[1;33m)\u001b[0m\u001b[1;33m\u001b[0m\u001b[0m\n\u001b[0;32m      3\u001b[0m \u001b[0mplt\u001b[0m\u001b[1;33m.\u001b[0m\u001b[0mplot\u001b[0m\u001b[1;33m(\u001b[0m\u001b[0mfeat\u001b[0m\u001b[1;33m.\u001b[0m\u001b[0mflat\u001b[0m\u001b[1;33m)\u001b[0m\u001b[1;33m\u001b[0m\u001b[0m\n\u001b[0;32m      4\u001b[0m \u001b[1;32mprint\u001b[0m \u001b[0mnp\u001b[0m\u001b[1;33m.\u001b[0m\u001b[0mamax\u001b[0m\u001b[1;33m(\u001b[0m\u001b[0mfeat\u001b[0m\u001b[1;33m.\u001b[0m\u001b[0mflat\u001b[0m\u001b[1;33m)\u001b[0m\u001b[1;33m\u001b[0m\u001b[0m\n",
      "\u001b[1;31mKeyError\u001b[0m: 'prob'"
     ]
    }
   ],
   "source": [
    "feat = net.blobs['prob'].data[0]\n",
    "plt.figure(figsize=(15, 3))\n",
    "plt.plot(feat.flat)\n",
    "print np.amax(feat.flat)"
   ]
  },
  {
   "cell_type": "code",
   "execution_count": 149,
   "metadata": {
    "collapsed": false
   },
   "outputs": [
    {
     "name": "stdout",
     "output_type": "stream",
     "text": [
      "Running evaluation for split: validation\n"
     ]
    },
    {
     "ename": "ValueError",
     "evalue": "invalid literal for int() with base 10: '{'",
     "output_type": "error",
     "traceback": [
      "\u001b[1;31m---------------------------------------------------------------------------\u001b[0m",
      "\u001b[1;31mValueError\u001b[0m                                Traceback (most recent call last)",
      "\u001b[1;32m<ipython-input-149-6508a86ea7ed>\u001b[0m in \u001b[0;36m<module>\u001b[1;34m()\u001b[0m\n\u001b[1;32m----> 1\u001b[1;33m \u001b[0meval_net\u001b[0m\u001b[1;33m(\u001b[0m\u001b[1;34m\"val-net-vash.prototxt\"\u001b[0m\u001b[1;33m,\u001b[0m\u001b[0mval_net_file\u001b[0m\u001b[1;33m,\u001b[0m\u001b[1;34m\"snapshot_vash/_iter_5000.caffemodel\"\u001b[0m\u001b[1;33m,\u001b[0m\u001b[1;34m'validation'\u001b[0m\u001b[1;33m)\u001b[0m\u001b[1;33m\u001b[0m\u001b[0m\n\u001b[0m",
      "\u001b[1;32m<ipython-input-13-057b338c662c>\u001b[0m in \u001b[0;36meval_net\u001b[1;34m(split_file_path, split_net, weight_file, split)\u001b[0m\n\u001b[0;32m     11\u001b[0m             \u001b[0mfilenames\u001b[0m\u001b[1;33m.\u001b[0m\u001b[0mappend\u001b[0m\u001b[1;33m(\u001b[0m\u001b[0mparts\u001b[0m\u001b[1;33m[\u001b[0m\u001b[1;36m0\u001b[0m\u001b[1;33m]\u001b[0m\u001b[1;33m)\u001b[0m\u001b[1;33m\u001b[0m\u001b[0m\n\u001b[0;32m     12\u001b[0m             \u001b[1;32mif\u001b[0m \u001b[0mlen\u001b[0m\u001b[1;33m(\u001b[0m\u001b[0mparts\u001b[0m\u001b[1;33m)\u001b[0m \u001b[1;33m>\u001b[0m \u001b[1;36m1\u001b[0m\u001b[1;33m:\u001b[0m\u001b[1;33m\u001b[0m\u001b[0m\n\u001b[1;32m---> 13\u001b[1;33m                 \u001b[0mlabels\u001b[0m\u001b[1;33m.\u001b[0m\u001b[0mappend\u001b[0m\u001b[1;33m(\u001b[0m\u001b[0mint\u001b[0m\u001b[1;33m(\u001b[0m\u001b[0mparts\u001b[0m\u001b[1;33m[\u001b[0m\u001b[1;36m1\u001b[0m\u001b[1;33m]\u001b[0m\u001b[1;33m)\u001b[0m\u001b[1;33m)\u001b[0m\u001b[1;33m\u001b[0m\u001b[0m\n\u001b[0m\u001b[0;32m     14\u001b[0m     \u001b[1;32mif\u001b[0m \u001b[0msplit\u001b[0m \u001b[1;33m==\u001b[0m \u001b[1;34m\"test\"\u001b[0m\u001b[1;33m:\u001b[0m\u001b[1;33m\u001b[0m\u001b[0m\n\u001b[0;32m     15\u001b[0m         \u001b[0mknown_labels\u001b[0m \u001b[1;33m=\u001b[0m \u001b[0mFalse\u001b[0m\u001b[1;33m\u001b[0m\u001b[0m\n",
      "\u001b[1;31mValueError\u001b[0m: invalid literal for int() with base 10: '{'"
     ]
    }
   ],
   "source": [
    "eval_net(\"val-net-vash.prototxt\",val_net_file,\"snapshot_vash/_iter_5000.caffemodel\",\"validation\")"
   ]
  },
  {
   "cell_type": "code",
   "execution_count": null,
   "metadata": {
    "collapsed": true
   },
   "outputs": [],
   "source": []
  }
 ],
 "metadata": {
  "kernelspec": {
   "display_name": "Python 2",
   "language": "python",
   "name": "python2"
  },
  "language_info": {
   "codemirror_mode": {
    "name": "ipython",
    "version": 2
   },
   "file_extension": ".py",
   "mimetype": "text/x-python",
   "name": "python",
   "nbconvert_exporter": "python",
   "pygments_lexer": "ipython2",
   "version": "2.7.6"
  }
 },
 "nbformat": 4,
 "nbformat_minor": 0
}
