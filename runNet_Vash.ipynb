{
 "cells": [
  {
   "cell_type": "code",
   "execution_count": 1,
   "metadata": {
    "collapsed": false
   },
   "outputs": [],
   "source": [
    "import caffe\n",
    "from caffe.proto import caffe_pb2\n",
    "from caffe import layers as L, to_proto\n",
    "from caffe import params as P\n",
    "import numpy as np\n",
    "import random\n",
    "import os\n",
    "import sys\n",
    "import time"
   ]
  },
  {
   "cell_type": "code",
   "execution_count": 2,
   "metadata": {
    "collapsed": false
   },
   "outputs": [],
   "source": [
    "GPUId = 2 # can change this to 0,1,2\n",
    "caffe.set_mode_gpu()\n",
    "caffe.set_device(GPUId)"
   ]
  },
  {
   "cell_type": "code",
   "execution_count": 3,
   "metadata": {
    "collapsed": false
   },
   "outputs": [
    {
     "name": "stdout",
     "output_type": "stream",
     "text": [
      "Training File Contents...\n",
      "train/c/coast/00000383.jpg 35\n",
      "train/b/bamboo_forest/00000466.jpg 12\n",
      "train/b/bedroom/00000492.jpg 18\n",
      "train/b/boat_deck/00000747.jpg 19\n",
      "train/p/phone_booth/00000645.jpg 73\n",
      "train/a/art_gallery/00000701.jpg 6\n",
      "train/l/lobby/00000535.jpg 63\n",
      "train/s/swamp/00000277.jpg 92\n",
      "train/b/boat_deck/00000798.jpg 19\n",
      "train/s/shed/00000701.jpg 82\n"
     ]
    }
   ],
   "source": [
    "train_file_path = \"data/development_kit/data/train.txt\"\n",
    "val_file_path = \"data/development_kit/data/val.txt\"\n",
    "test_file_path = \"data/development_kit/data/temp_test.txt\"\n",
    "\n",
    "print \"Training File Contents...\"\n",
    "content = [line.rstrip() for line in open(train_file_path)]\n",
    "random.shuffle(content)\n",
    "for x in content[:10]:\n",
    "    print x"
   ]
  },
  {
   "cell_type": "code",
   "execution_count": 4,
   "metadata": {
    "collapsed": false
   },
   "outputs": [],
   "source": [
    "#Data Parameters....\n",
    "CROP_SIZE = 96\n",
    "BATCH_SIZE = 128\n",
    "TEST_BATCH_SIZE = 150\n",
    "IMAGE_ROOT = \"data/images/\" #dont change this\n",
    "BIAS_CONSTANT = 0\n",
    "NET_PATH = \"train-net-vash.prototxt\"\n",
    "VAL_NET_PATH = \"val-net-vash.prototxt\"\n",
    "TEST_NET_PATH = \"test-net-vash.prototxt\"\n",
    "SOLVER_PATH = \"solver-vash.prototxt\"\n",
    "\n",
    "#Learning Parameters\n",
    "weight_param = dict(lr_mult=1, decay_mult=1)\n",
    "bias_param   = dict(lr_mult=2, decay_mult=0)\n",
    "learned_param = [weight_param, bias_param]\n",
    "conv_filler = dict(type='xavier')\n",
    "const_filler = dict(type='constant', value=BIAS_CONSTANT)\n",
    "fc_filler = dict(type='xavier')"
   ]
  },
  {
   "cell_type": "code",
   "execution_count": 5,
   "metadata": {
    "collapsed": false
   },
   "outputs": [],
   "source": [
    "def get_data_layer(source,train=True,batch=BATCH_SIZE):\n",
    "    mean = [104, 117, 123]  # per-channel mean of the BGR image pixels\n",
    "    transform_param = dict(mirror=train, crop_size=CROP_SIZE, mean_value=mean)\n",
    "    places_data, places_labels = L.ImageData(transform_param=transform_param,\n",
    "                                             source=source,\n",
    "                                             root_folder=IMAGE_ROOT,\n",
    "                                             shuffle=train,\n",
    "                                             batch_size=batch,\n",
    "                                             ntop=2)\n",
    "    return places_data,places_labels\n",
    "\n",
    "train_data,train_labels = get_data_layer(train_file_path,True)\n",
    "val_data,val_labels = get_data_layer(val_file_path,False,batch=TEST_BATCH_SIZE)\n",
    "test_data,test_labels = get_data_layer(test_file_path,False,batch=TEST_BATCH_SIZE)"
   ]
  },
  {
   "cell_type": "code",
   "execution_count": 6,
   "metadata": {
    "collapsed": false
   },
   "outputs": [],
   "source": [
    "def conv_relu(bottom, ks, nout, stride=1, pad=0, group=1,weight_filler=conv_filler, bias_filler=const_filler):\n",
    "    conv = L.Convolution(bottom,\n",
    "                         kernel_size=ks,\n",
    "                         num_output=nout,\n",
    "                         stride=stride,\n",
    "                         pad=pad,\n",
    "                         group=group,\n",
    "                         param=learned_param,\n",
    "                         weight_filler=weight_filler,\n",
    "                         bias_filler=bias_filler)\n",
    "    bn = L.BatchNorm(conv,param=[dict(lr_mult=0)] * 3)\n",
    "    relu = L.ReLU(bn, in_place=True)\n",
    "    return conv, relu"
   ]
  },
  {
   "cell_type": "code",
   "execution_count": 7,
   "metadata": {
    "collapsed": false
   },
   "outputs": [],
   "source": [
    "def fc_relu(bottom, nout,weight_filler=fc_filler, bias_filler=const_filler):\n",
    "    fc = L.InnerProduct(bottom,\n",
    "                        num_output=nout,\n",
    "                        param=learned_param,\n",
    "                        weight_filler=weight_filler,\n",
    "                        bias_filler=bias_filler)\n",
    "    bn = L.BatchNorm(fc,param=[dict(lr_mult=0)] * 3)\n",
    "    relu = L.ReLU(bn, in_place=True)\n",
    "    return fc, relu"
   ]
  },
  {
   "cell_type": "code",
   "execution_count": 8,
   "metadata": {
    "collapsed": true
   },
   "outputs": [],
   "source": [
    "def max_pool(bottom, ks, stride=1, train=False):\n",
    "    return L.Pooling(bottom, pool=P.Pooling.MAX, kernel_size=ks, stride=stride)"
   ]
  },
  {
   "cell_type": "code",
   "execution_count": 9,
   "metadata": {
    "collapsed": false
   },
   "outputs": [],
   "source": [
    "def places_net(data, labels, train=False,num_classes=100,path=NET_PATH):\n",
    "    n = caffe.NetSpec()\n",
    "    n.data = data\n",
    "    \n",
    "    n.conv1_1, n.relu1_1 = conv_relu(n.data, 3, 32, stride=1)\n",
    "    n.conv1_2, n.relu1_2 = conv_relu(n.relu1_1, 3, 32, stride=1)\n",
    "    n.pool1 = max_pool(n.relu1_2, 2, stride=2)\n",
    "    \n",
    "    n.conv2_1, n.relu2_1 = conv_relu(n.pool1, 3, 64, stride=1)\n",
    "    n.conv2_2, n.relu2_2 = conv_relu(n.relu2_1, 3, 64, stride=1)\n",
    "    n.pool2 = max_pool(n.relu2_2, 2, stride=2)\n",
    "    \n",
    "    n.conv3_1, n.relu3_1 = conv_relu(n.pool2, 3, 128, stride=1)\n",
    "    n.conv3_2, n.relu3_2 = conv_relu(n.relu3_1, 3, 128, stride=1)\n",
    "    n.conv3_3, n.relu3_3 = conv_relu(n.relu3_2, 3, 128, stride=1)\n",
    "    n.pool3 = max_pool(n.relu3_3, 2, stride=2)\n",
    "    \n",
    "    n.conv4_1, n.relu4_1 = conv_relu(n.pool3, 3, 256, stride=1)\n",
    "    n.conv4_2, n.relu4_2 = conv_relu(n.relu4_1, 3, 256, stride=1)\n",
    "    n.conv4_3, n.relu4_3 = conv_relu(n.relu4_2, 3, 256, stride=1)\n",
    "    n.pool4 = max_pool(n.relu4_3, 2, stride=2)\n",
    "\n",
    "    n.fc5, n.relu5 = fc_relu(n.pool4, 4096)\n",
    "    n.drop5 = L.Dropout(n.relu5, in_place=True)\n",
    "    \n",
    "    n.fc6, n.relu6 = fc_relu(n.drop5, 1024)\n",
    "    n.drop6 = L.Dropout(n.relu6, in_place=True)\n",
    "    \n",
    "    layer_param = [dict(lr_mult=5, decay_mult=1), dict(lr_mult=10, decay_mult=0)]\n",
    "    preds = n.fc7 = L.InnerProduct(n.drop6, num_output=num_classes,param=learned_param)\n",
    "    \n",
    "    if not train:\n",
    "        # Compute the per-label probabilities at test/inference time.\n",
    "        preds = n.probs = L.Softmax(n.fc7)\n",
    "        \n",
    "    n.label = labels\n",
    "    n.loss = L.SoftmaxWithLoss(n.fc7, n.label)\n",
    "    n.accuracy_at_1 = L.Accuracy(preds, n.label)\n",
    "    n.accuracy_at_5 = L.Accuracy(preds, n.label,accuracy_param=dict(top_k=5))\n",
    "    \n",
    "    with open(path,'w') as f:\n",
    "        f.write(str(n.to_proto()))\n",
    "    return path"
   ]
  },
  {
   "cell_type": "code",
   "execution_count": 10,
   "metadata": {
    "collapsed": false
   },
   "outputs": [],
   "source": [
    "train_net_file = places_net(train_data,train_labels,train=True)\n",
    "val_net_file = places_net(val_data,val_labels,train=False,path=VAL_NET_PATH)\n",
    "test_net_file = places_net(test_data,test_labels,train=False,path=TEST_NET_PATH)"
   ]
  },
  {
   "cell_type": "code",
   "execution_count": 11,
   "metadata": {
    "collapsed": false
   },
   "outputs": [],
   "source": [
    "def places_solver(snapshot_prefix):\n",
    "    s = caffe_pb2.SolverParameter()\n",
    "    s.train_net = train_net_file\n",
    "    s.test_net.append(val_net_file)\n",
    "    \n",
    "    s.test_interval = 1000\n",
    "    s.test_iter.append(79)\n",
    "    s.iter_size = 2\n",
    "\n",
    "    # Solve using the stochastic gradient descent (SGD) algorithm.\n",
    "    # Other choices include 'Adam' and 'RMSProp'.\n",
    "    s.type = 'SGD'\n",
    "\n",
    "    # The following settings (base_lr, lr_policy, gamma, stepsize, and max_iter),\n",
    "    # define the following learning rate schedule:\n",
    "    #   Iterations [  0, 20K) -> learning rate 0.01   = base_lr\n",
    "    #   Iterations [20K, 40K) -> learning rate 0.001  = base_lr * gamma\n",
    "    #   Iterations [40K, 50K) -> learning rate 0.0001 = base_lr * gamma^2\n",
    "    s.base_lr = 0.01\n",
    "    s.lr_policy = 'step'\n",
    "    s.gamma =  0.1\n",
    "    s.stepsize = 10000\n",
    "    s.max_iter = 150000\n",
    "\n",
    "    # Set other SGD hyperparameters. \n",
    "    #`momentum` = takes a weighted average of the current gradient and previous gradients -> more stable learning\n",
    "    # weight decay = regularizes learning; prevents overfitting\n",
    "    s.momentum = 0.9\n",
    "    s.weight_decay = 0.0005\n",
    "\n",
    "    # Display the current training loss and accuracy every `display` iterations.\n",
    "    s.display = 100\n",
    "    s.average_loss = 10\n",
    "    # Seed the RNG for deterministic results.\n",
    "    s.random_seed = 1\n",
    "\n",
    "    # Snapshots are files used to store networks we've trained\n",
    "    s.snapshot = 5000\n",
    "    s.snapshot_prefix = snapshot_prefix\n",
    "    if not os.path.exists(s.snapshot_prefix):\n",
    "        os.makedirs(s.snapshot_prefix)\n",
    "    with open(SOLVER_PATH,'w') as f:\n",
    "        f.write(str(s))\n",
    "    return SOLVER_PATH  "
   ]
  },
  {
   "cell_type": "code",
   "execution_count": 12,
   "metadata": {
    "collapsed": false
   },
   "outputs": [],
   "source": [
    "solver_file = places_solver(\"snapshot_vash\")\n",
    "solver = caffe.get_solver(solver_file)\n",
    "solver.restore(\"snapshot_vash/_iter_25000.solverstate\")"
   ]
  },
  {
   "cell_type": "code",
   "execution_count": 13,
   "metadata": {
    "collapsed": false
   },
   "outputs": [],
   "source": [
    "def eval_net(split_file_path,split_net,weight_file,split):\n",
    "    K=5\n",
    "    print 'Running evaluation for split:', split\n",
    "    filenames = []\n",
    "    labels = []\n",
    "    split_file = split_file_path\n",
    "    with open(split_file, 'r') as f:\n",
    "        for line in f.readlines():\n",
    "            parts = line.split()\n",
    "            assert 1 <= len(parts) <= 2, 'malformed line'\n",
    "            filenames.append(parts[0])\n",
    "            if len(parts) > 1:\n",
    "                labels.append(int(parts[1]))\n",
    "    if split == \"test\":\n",
    "        known_labels = False\n",
    "    else:\n",
    "        known_labels = (len(labels) > 0)\n",
    "    if known_labels:\n",
    "        assert len(labels) == len(filenames)\n",
    "    test_net_file = split_net\n",
    "    weights_file = weight_file\n",
    "    net = caffe.Net(test_net_file, weights_file, caffe.TEST)\n",
    "    top_k_predictions = np.zeros((len(filenames), K), dtype=np.int32)\n",
    "    if known_labels:\n",
    "        correct_label_probs = np.zeros(len(filenames))\n",
    "    offset = 0\n",
    "    while offset < len(filenames):\n",
    "        net.forward()\n",
    "        probs = net.blobs['probs'].data\n",
    "        #probs = net.forward()['probs']\n",
    "        for prob in probs:\n",
    "            top_k_predictions[offset] = (-prob).argsort()[:K]\n",
    "            if known_labels:\n",
    "                correct_label_probs[offset] = prob[labels[offset]]\n",
    "            offset += 1\n",
    "            if offset >= len(filenames):\n",
    "                break\n",
    "    if known_labels:\n",
    "        def accuracy_at_k(preds, labels, k):\n",
    "            assert len(preds) == len(labels)\n",
    "            num_correct = sum(l in p[:k] for p, l in zip(preds, labels))\n",
    "            return num_correct*1.0 / len(preds)\n",
    "        for k in [1, K]:\n",
    "            accuracy = 100 * accuracy_at_k(top_k_predictions, labels, k)\n",
    "            print '\\tAccuracy at %d = %4.2f%%' % (k, accuracy)\n",
    "        cross_ent_error = -np.log(correct_label_probs).mean()\n",
    "        print '\\tSoftmax cross-entropy error = %.4f' % (cross_ent_error, )\n",
    "    else:\n",
    "        print 'Not computing accuracy; ground truth unknown for split:', split\n",
    "    filename = 'top_%d_predictions.%s.csv' % (K, split)\n",
    "    with open(filename, 'w') as f:\n",
    "        f.write(','.join(['image'] + ['label%d' % i for i in range(1, K+1)]))\n",
    "        f.write('\\n')\n",
    "        f.write(''.join('%s,%s\\n' % (image, ','.join(str(p) for p in preds))\n",
    "                        for image, preds in zip(filenames, top_k_predictions)))\n",
    "    print 'Predictions for split %s dumped to: %s' % (split, filename)"
   ]
  },
  {
   "cell_type": "code",
   "execution_count": 14,
   "metadata": {
    "collapsed": true
   },
   "outputs": [],
   "source": [
    "def train_net(iters,disp):\n",
    "    outputs = sorted(solver.net.outputs)\n",
    "    def str_output(output):\n",
    "        value = solver.net.blobs[output].data\n",
    "        if output.startswith('accuracy'):\n",
    "            valstr = '%5.2f%%' % (100 * value, )\n",
    "        else:\n",
    "            valstr = '%6f' % value\n",
    "        return '%s = %s' % (output, valstr)\n",
    "    def disp_outputs(iteration, iter_pad_len=len(str(iters))):\n",
    "        metrics = '; '.join(str_output(o) for o in outputs)\n",
    "        return 'Iteration %*d: %s' % (iter_pad_len, iteration, metrics)\n",
    "    # We could just call `solver.solve()` rather than `step()`ing in a loop.\n",
    "    # (If we hadn't set GLOG_minloglevel = 3 at the top of this file, Caffe\n",
    "    # would display loss/accuracy information during training.)\n",
    "    previous_time = None\n",
    "    for iteration in xrange(iters):\n",
    "        solver.step(1)\n",
    "        if (disp > 0) and (iteration % disp == 0):\n",
    "            current_time = time.clock()\n",
    "            if previous_time is None:\n",
    "                benchmark = ''\n",
    "            else:\n",
    "                time_per_iter = (current_time - previous_time) / disp\n",
    "                benchmark = ' (%5f s/it)' % time_per_iter\n",
    "            previous_time = current_time\n",
    "            print disp_outputs(iteration), benchmark\n",
    "    # Print accuracy for last iteration.\n",
    "    solver.net.forward()\n",
    "    disp_outputs(iters)\n",
    "    #solver.net.save(snapshot_at_iteration(args.iters))"
   ]
  },
  {
   "cell_type": "code",
   "execution_count": null,
   "metadata": {
    "collapsed": false
   },
   "outputs": [],
   "source": [
    "train_net(20000,50)"
   ]
  },
  {
   "cell_type": "code",
   "execution_count": 15,
   "metadata": {
    "collapsed": true
   },
   "outputs": [],
   "source": [
    "NET_PATH = \"train-net-small.prototxt\"\n",
    "VAL_NET_PATH = \"val-net-small.prototxt\"\n",
    "TEST_NET_PATH = \"test-net-small.prototxt\"\n",
    "SOLVER_PATH = \"solver-small.prototxt\"\n",
    "\n",
    "def places_net_small(data, labels, train=False,num_classes=100,path=NET_PATH):\n",
    "    n = caffe.NetSpec()\n",
    "    n.data = data\n",
    "    \n",
    "    n.conv1_1, n.relu1_1 = conv_relu(n.data, 3, 32, stride=1)\n",
    "    n.pool1 = max_pool(n.relu1_1, 2, stride=2)\n",
    "    \n",
    "    n.conv2_1, n.relu2_1 = conv_relu(n.pool1, 3, 64, stride=1)\n",
    "    n.pool2 = max_pool(n.relu2_1, 2, stride=2)\n",
    "    \n",
    "    n.conv3_1, n.relu3_1 = conv_relu(n.pool2, 3, 128, stride=1)\n",
    "    n.conv3_2, n.relu3_2 = conv_relu(n.relu3_1, 3, 128, stride=1)\n",
    "    n.pool3 = max_pool(n.relu3_2, 2, stride=2)\n",
    "    \n",
    "    n.conv4_1, n.relu4_1 = conv_relu(n.pool3, 3, 256, stride=1)\n",
    "    n.conv4_2, n.relu4_2 = conv_relu(n.relu4_1, 3, 256, stride=1)\n",
    "    n.pool4 = max_pool(n.relu4_2, 2, stride=2)\n",
    "\n",
    "    n.fc5, n.relu5 = fc_relu(n.pool4, 4096)\n",
    "    n.drop5 = L.Dropout(n.relu5, in_place=True)\n",
    "    \n",
    "    n.fc6, n.relu6 = fc_relu(n.drop5, 1024)\n",
    "    n.drop6 = L.Dropout(n.relu6, in_place=True)\n",
    "    \n",
    "    layer_param = [dict(lr_mult=5, decay_mult=1), dict(lr_mult=10, decay_mult=0)]\n",
    "    preds = n.fc7 = L.InnerProduct(n.drop6, num_output=num_classes,param=learned_param)\n",
    "    \n",
    "    if not train:\n",
    "        # Compute the per-label probabilities at test/inference time.\n",
    "        preds = n.probs = L.Softmax(n.fc7)\n",
    "        \n",
    "    n.label = labels\n",
    "    n.loss = L.SoftmaxWithLoss(n.fc7, n.label)\n",
    "    n.accuracy_at_1 = L.Accuracy(preds, n.label)\n",
    "    n.accuracy_at_5 = L.Accuracy(preds, n.label,accuracy_param=dict(top_k=5))\n",
    "    \n",
    "    with open(path,'w') as f:\n",
    "        f.write(str(n.to_proto()))\n",
    "    return path"
   ]
  },
  {
   "cell_type": "code",
   "execution_count": 16,
   "metadata": {
    "collapsed": false
   },
   "outputs": [],
   "source": [
    "train_net_file = places_net_small(train_data,train_labels,train=True)\n",
    "val_net_file = places_net_small(val_data,val_labels,train=False,path=VAL_NET_PATH)\n",
    "test_net_file = places_net_small(test_data,test_labels,train=False,path=TEST_NET_PATH)\n",
    "\n",
    "solver_file = places_solver(\"snapshot_small\")\n",
    "solver = caffe.get_solver(solver_file)"
   ]
  },
  {
   "cell_type": "code",
   "execution_count": 16,
   "metadata": {
    "collapsed": false
   },
   "outputs": [
    {
     "ename": "NameError",
     "evalue": "name 'eval_net' is not defined",
     "output_type": "error",
     "traceback": [
      "\u001b[1;31m---------------------------------------------------------------------------\u001b[0m",
      "\u001b[1;31mNameError\u001b[0m                                 Traceback (most recent call last)",
      "\u001b[1;32m<ipython-input-16-eb7f3c199072>\u001b[0m in \u001b[0;36m<module>\u001b[1;34m()\u001b[0m\n\u001b[1;32m----> 1\u001b[1;33m \u001b[0meval_net\u001b[0m\u001b[1;33m(\u001b[0m\u001b[0mval_file_path\u001b[0m\u001b[1;33m,\u001b[0m \u001b[0mval_net_file\u001b[0m\u001b[1;33m,\u001b[0m \u001b[1;34m\"snapshot_small/snapshot_small_iter_20000.caffemodel\"\u001b[0m\u001b[1;33m)\u001b[0m\u001b[1;33m\u001b[0m\u001b[0m\n\u001b[0m",
      "\u001b[1;31mNameError\u001b[0m: name 'eval_net' is not defined"
     ]
    }
   ],
   "source": [
    "eval_net(val_file_path, val_net_file, \"snapshot_small/snapshot_small_iter_20000.caffemodel\")"
   ]
  },
  {
   "cell_type": "code",
   "execution_count": 17,
   "metadata": {
    "collapsed": false
   },
   "outputs": [],
   "source": [
    "def eval_net_ensemble(split_file_path, net1_file, net2_file, weights1, weights2, split):\n",
    "    K=5\n",
    "    print 'Running evaluation for split:', split\n",
    "    filenames = []\n",
    "    labels = []\n",
    "    split_file = split_file_path\n",
    "    with open(split_file, 'r') as f:\n",
    "        for line in f.readlines():\n",
    "            parts = line.split()\n",
    "            assert 1 <= len(parts) <= 2, 'malformed line'\n",
    "            filenames.append(parts[0])\n",
    "            if len(parts) > 1:\n",
    "                labels.append(int(parts[1]))\n",
    "    if split == \"test\":\n",
    "        known_labels = False\n",
    "    else:\n",
    "        known_labels = (len(labels) > 0)\n",
    "    if known_labels:\n",
    "        assert len(labels) == len(filenames)\n",
    "        \n",
    "    net1 = caffe.Net(net1_file, weights1, caffe.TEST)\n",
    "    net2 = caffe.Net(net2_file, weights2, caffe.TEST)\n",
    "    \n",
    "    top_k_predictions = np.zeros((len(filenames), K), dtype=np.int32)\n",
    "    if known_labels:\n",
    "        correct_label_probs = np.zeros(len(filenames))\n",
    "    offset = 0\n",
    "\n",
    "    while offset < len(filenames):\n",
    "        net1.forward()\n",
    "        net2.forward()\n",
    "        \n",
    "        prob1 = net1.blobs['probs'].data / np.amax(net1.blobs['probs'].data)\n",
    "        prob2 = net2.blobs['probs'].data / np.amax(net2.blobs['probs'].data)\n",
    "        \n",
    "        probs = np.maximum(prob1, prob2)\n",
    "\n",
    "        for prob in probs:\n",
    "            top_k_predictions[offset] = (-prob).argsort()[:K]\n",
    "            if known_labels:\n",
    "                correct_label_probs[offset] = prob[labels[offset]]\n",
    "            offset += 1\n",
    "            if offset >= len(filenames):\n",
    "                break\n",
    "    if known_labels:\n",
    "        def accuracy_at_k(preds, labels, k):\n",
    "            assert len(preds) == len(labels)\n",
    "            num_correct = sum(l in p[:k] for p, l in zip(preds, labels))\n",
    "            return num_correct*1.0 / len(preds)\n",
    "        for k in [1, K]:\n",
    "            accuracy = 100 * accuracy_at_k(top_k_predictions, labels, k)\n",
    "            print '\\tAccuracy at %d = %4.2f%%' % (k, accuracy)\n",
    "        cross_ent_error = -np.log(correct_label_probs).mean()\n",
    "        print '\\tSoftmax cross-entropy error = %.4f' % (cross_ent_error, )\n",
    "    else:\n",
    "        print 'Not computing accuracy; ground truth unknown for split:', split\n",
    "    filename = 'top_%d_predictions_twonetworks.%s.csv' % (K, split)\n",
    "    with open(filename, 'w') as f:\n",
    "        f.write(','.join(['image'] + ['label%d' % i for i in range(1, K+1)]))\n",
    "        f.write('\\n')\n",
    "        f.write(''.join('%s,%s\\n' % (image, ','.join(str(p) for p in preds))\n",
    "                        for image, preds in zip(filenames, top_k_predictions)))\n",
    "    print 'Predictions for split %s dumped to: %s' % (split, filename)"
   ]
  },
  {
   "cell_type": "code",
   "execution_count": 18,
   "metadata": {
    "collapsed": false
   },
   "outputs": [
    {
     "name": "stdout",
     "output_type": "stream",
     "text": [
      "Running evaluation for split: validation\n",
      "\tAccuracy at 1 = 42.28%\n",
      "\tAccuracy at 5 = 72.41%\n",
      "\tSoftmax cross-entropy error = 1.9351\n",
      "Predictions for split validation dumped to: top_5_predictions_twonetworks.validation.csv\n"
     ]
    }
   ],
   "source": [
    "nets = [\"test-net.prototxt\", \"val-net-vash.prototxt\", \"val-net-small.prototxt\"]\n",
    "weights = [\"snapshot/_iter_49500.caffemodel\", \"snapshot_vash/_iter_25000.caffemodel\", \"snapshot_small/snapshot_small_iter_20000.caffemodel\"]\n",
    "eval_net_ensemble(val_file_path, \"val-net-vash.prototxt\",val_net_file, \"snapshot_vash/_iter_25000.caffemodel\", \"snapshot_small/snapshot_small_iter_20000.caffemodel\", \"validation\")"
   ]
  },
  {
   "cell_type": "code",
   "execution_count": 40,
   "metadata": {
    "collapsed": false
   },
   "outputs": [
    {
     "name": "stdout",
     "output_type": "stream",
     "text": [
      "Running evaluation for split: train\n",
      "\tAccuracy at 1 = 50.89%\n",
      "\tAccuracy at 5 = 80.70%\n",
      "\tSoftmax cross-entropy error = 1.7989\n",
      "Predictions for split train dumped to: top_5_predictions.train.csv\n"
     ]
    }
   ],
   "source": [
    "train_data,train_labels = get_data_layer(train_file_path,False)\n",
    "train_net_file = places_net(train_data,train_labels,train=False)\n",
    "eval_net(train_file_path, train_net_file,\"snapshot_vash/_iter_25000.caffemodel\", \"train\")"
   ]
  },
  {
   "cell_type": "code",
   "execution_count": 66,
   "metadata": {
    "collapsed": false
   },
   "outputs": [
    {
     "data": {
      "text/plain": [
       "(0, 100)"
      ]
     },
     "execution_count": 66,
     "metadata": {},
     "output_type": "execute_result"
    },
    {
     "data": {
      "image/png": "[encoded data removed]",
      "text/plain": [
       "<matplotlib.figure.Figure at 0x10454e10>"
      ]
     },
     "metadata": {},
     "output_type": "display_data"
    }
   ],
   "source": [
    "i = [5000, 10000, 15000, 20000, 25000]\n",
    "\n",
    "v_acc_1 = [26.2, 30.31, 39.37, 40.22, 40.23]\n",
    "v_acc_5 = [56.04, 61.46, 70.24, 71.27, 71.25]\n",
    "soft_val = [2.9443, 2.7563, 2.3212, 2.23735, 2.2706]\n",
    "\n",
    "t_acc_1 = [23.79, 36.21, 48.99, 50.57, 50.89]\n",
    "t_acc_5 = [59.11, 67.73, 78.93, 80.41, 80.70]\n",
    "soft_train = [2.7951, 2.4528, 1.8955, 1.8132, 1.7989]\n",
    "\n",
    "import matplotlib.pyplot as plt       # large images\n",
    "\n",
    "%matplotlib inline\n",
    "\n",
    "plt.figure(figsize=(12,10))\n",
    "plt.plot(i, v_acc_1, label=\"Top 1 Validation\")\n",
    "plt.plot(i, t_acc_1, label=\"Top 1 Train\")\n",
    "plt.legend(loc=\"upper left\")\n",
    "plt.xlabel(\"Iterations\")\n",
    "plt.ylabel(\"Accuracy\")\n",
    "plt.ylim((0, 80))\n",
    "\n",
    "plt.plot(i, v_acc_5, label=\"Top 5 Validation\")\n",
    "plt.plot(i, t_acc_5, label=\"Top 5 Train\")\n",
    "plt.legend(loc=\"upper left\")\n",
    "plt.xlabel(\"Iterations\")\n",
    "plt.ylabel(\"Accuracy\")\n",
    "plt.ylim((0, 100))"
   ]
  },
  {
   "cell_type": "code",
   "execution_count": 67,
   "metadata": {
    "collapsed": false
   },
   "outputs": [
    {
     "data": {
      "text/plain": [
       "<matplotlib.text.Text at 0x1011a5d0>"
      ]
     },
     "execution_count": 67,
     "metadata": {},
     "output_type": "execute_result"
    },
    {
     "data": {
      "image/png": "[encoded data removed]",
      "text/plain": [
       "<matplotlib.figure.Figure at 0xd9f0d90>"
      ]
     },
     "metadata": {},
     "output_type": "display_data"
    }
   ],
   "source": [
    "plt.figure(figsize=(12,10))\n",
    "plt.plot(i, soft_val, label=\"Validation\")\n",
    "plt.plot(i, soft_train, label=\"Train\")\n",
    "plt.legend(loc=\"upper left\")\n",
    "plt.xlabel(\"Iterations\")\n",
    "plt.ylabel(\"Softmax Loss\")"
   ]
  },
  {
   "cell_type": "code",
   "execution_count": null,
   "metadata": {
    "collapsed": true
   },
   "outputs": [],
   "source": []
  }
 ],
 "metadata": {
  "kernelspec": {
   "display_name": "Python 2",
   "language": "python",
   "name": "python2"
  },
  "language_info": {
   "codemirror_mode": {
    "name": "ipython",
    "version": 2
   },
   "file_extension": ".py",
   "mimetype": "text/x-python",
   "name": "python",
   "nbconvert_exporter": "python",
   "pygments_lexer": "ipython2",
   "version": "2.7.6"
  }
 },
 "nbformat": 4,
 "nbformat_minor": 0
}
